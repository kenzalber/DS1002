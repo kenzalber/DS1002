{
  "nbformat": 4,
  "nbformat_minor": 0,
  "metadata": {
    "colab": {
      "provenance": [],
      "authorship_tag": "ABX9TyOGwFNv2DkdzS6qmaRt2R+7",
      "include_colab_link": true
    },
    "kernelspec": {
      "name": "python3",
      "display_name": "Python 3"
    },
    "language_info": {
      "name": "python"
    }
  },
  "cells": [
    {
      "cell_type": "markdown",
      "metadata": {
        "id": "view-in-github",
        "colab_type": "text"
      },
      "source": [
        "<a href=\"https://colab.research.google.com/github/kenzalber/DS1002/blob/main/Guessing_Game.ipynb\" target=\"_parent\"><img src=\"https://colab.research.google.com/assets/colab-badge.svg\" alt=\"Open In Colab\"/></a>"
      ]
    },
    {
      "cell_type": "code",
      "source": [
        "import numpy as np\n",
        "number = np.random.randint(0, 100)\n",
        "print(\"Please guess an integer between 0 and 100.\")\n",
        "n = 0\n",
        "success = False\n",
        "while success == False:\n",
        "  guess = input()\n",
        "  try:\n",
        "    if int(guess) == number:\n",
        "      n += 1\n",
        "      print(\"You got it!\")\n",
        "      print(\"Guesses taken: \" + (str(n)))\n",
        "      success = True\n",
        "    elif int(guess) > number:\n",
        "      print(\"Too high\")\n",
        "      n += 1\n",
        "    elif int(guess) < number:\n",
        "      print(\"Too low\")\n",
        "      n +=1\n",
        "  except:\n",
        "    print(\"Please pick an integer\")\n"
      ],
      "metadata": {
        "colab": {
          "base_uri": "https://localhost:8080/"
        },
        "id": "5ZXa0sjdLr53",
        "outputId": "ab7ae931-edc0-415d-e404-6e325817aed7"
      },
      "execution_count": 97,
      "outputs": [
        {
          "output_type": "stream",
          "name": "stdout",
          "text": [
            "Please guess an integer between 0 and 100.\n",
            "13.5\n",
            "Please pick an integer\n",
            "hello\n",
            "Please pick an integer\n",
            "50\n",
            "Too high\n",
            "25\n",
            "Too high\n",
            "15\n",
            "Too low\n",
            "20\n",
            "Too low\n",
            "23\n",
            "Too high\n",
            "22\n",
            "You got it!\n",
            "Guesses taken: 6\n"
          ]
        }
      ]
    },
    {
      "cell_type": "markdown",
      "source": [
        "Time taken on assignment: approx 45 mins"
      ],
      "metadata": {
        "id": "7HOipX9Gfop5"
      }
    }
  ]
}