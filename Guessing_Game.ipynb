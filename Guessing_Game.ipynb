{
  "nbformat": 4,
  "nbformat_minor": 0,
  "metadata": {
    "colab": {
      "provenance": [],
      "authorship_tag": "ABX9TyP8PyhhQGAA1FXhvcbc7lDV",
      "include_colab_link": true
    },
    "kernelspec": {
      "name": "python3",
      "display_name": "Python 3"
    },
    "language_info": {
      "name": "python"
    }
  },
  "cells": [
    {
      "cell_type": "markdown",
      "metadata": {
        "id": "view-in-github",
        "colab_type": "text"
      },
      "source": [
        "<a href=\"https://colab.research.google.com/github/kenzalber/DS1002/blob/main/Guessing_Game.ipynb\" target=\"_parent\"><img src=\"https://colab.research.google.com/assets/colab-badge.svg\" alt=\"Open In Colab\"/></a>"
      ]
    },
    {
      "cell_type": "code",
      "execution_count": 19,
      "metadata": {
        "id": "4VHBfHtYLlg7"
      },
      "outputs": [],
      "source": [
        "import numpy as np"
      ]
    },
    {
      "cell_type": "code",
      "source": [
        "number = np.random.randint(0, 100)\n",
        "print(\"Please guess an integer between 0 and 100.\")\n",
        "n = 0\n",
        "success = False\n",
        "while success == False:\n",
        "  guess = input()\n",
        "  n += 1\n",
        "  try:\n",
        "    if int(guess) == number:\n",
        "      print(\"You got it!\")\n",
        "      print(\"Guesses taken: \" + (str(n)))\n",
        "      success = True\n",
        "    elif int(guess) > number:\n",
        "      print(\"Too high\")\n",
        "    elif int(guess) < number:\n",
        "      print(\"Too low\")\n",
        "  except:\n",
        "    print(\"Please pick an integer\")\n"
      ],
      "metadata": {
        "colab": {
          "base_uri": "https://localhost:8080/"
        },
        "id": "5ZXa0sjdLr53",
        "outputId": "79b8f2a8-6763-4ab3-d199-348142eb450b"
      },
      "execution_count": null,
      "outputs": [
        {
          "output_type": "stream",
          "name": "stdout",
          "text": [
            "Please guess an integer between 0 and 100.\n",
            "-9\n",
            "Too low\n",
            "11111111111\n",
            "Too high\n",
            "gvjhbn\n",
            "Please pick an integer\n",
            "9.9\n",
            "Please pick an integer\n"
          ]
        }
      ]
    },
    {
      "cell_type": "markdown",
      "source": [
        "Time taken on assignment: approx 45 mins"
      ],
      "metadata": {
        "id": "7HOipX9Gfop5"
      }
    }
  ]
}