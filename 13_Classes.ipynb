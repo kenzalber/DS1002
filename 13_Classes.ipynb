{
  "nbformat": 4,
  "nbformat_minor": 0,
  "metadata": {
    "colab": {
      "provenance": [],
      "include_colab_link": true
    },
    "kernelspec": {
      "name": "python3",
      "display_name": "Python 3"
    },
    "language_info": {
      "name": "python"
    }
  },
  "cells": [
    {
      "cell_type": "markdown",
      "metadata": {
        "id": "view-in-github",
        "colab_type": "text"
      },
      "source": [
        "<a href=\"https://colab.research.google.com/github/kenzalber/DS1002/blob/main/13_Classes.ipynb\" target=\"_parent\"><img src=\"https://colab.research.google.com/assets/colab-badge.svg\" alt=\"Open In Colab\"/></a>"
      ]
    },
    {
      "cell_type": "markdown",
      "source": [
        "## Assignment:  Classes\n",
        "### Due Sunday 28 April at 10pm"
      ],
      "metadata": {
        "id": "5Vy93BSp9Tum"
      }
    },
    {
      "cell_type": "markdown",
      "source": [
        "1.  Define a class called `Person` that has attributes `lastName`, `firstName`, `mother`, and `father`.  Both `mother` and `father` should have default value `unknown`.\n",
        "\n",
        "  Include a `__str__()` function that returns a string of the form '`firstName` `lastName`'.\n",
        "\n",
        "  Include a `__repr__()` function that returns a string that can be evaluated to recreate the `Person` object.\n",
        "\n"
      ],
      "metadata": {
        "id": "vcj5XQAI9Wsb"
      }
    },
    {
      "cell_type": "code",
      "source": [
        "#class definition\n",
        "class Person:\n",
        "    def __init__(self, lastName, firstName, mother=\"unknown\", father=\"unknown\"):\n",
        "        self.lastName = lastName\n",
        "        self.firstName = firstName\n",
        "        self.mother = mother\n",
        "        self.father = father\n",
        "\n",
        "#string and repr definition\n",
        "    def __str__(self):\n",
        "      return f\"{self.firstName} ({self.lastName})\"\n",
        "    def __repr__(self):\n",
        "      return f\"Person('{self.lastName}', '{self.firstName}', '{self.mother}', '{self.father}')\""
      ],
      "metadata": {
        "id": "mjHDwHv3EpVe"
      },
      "execution_count": 2,
      "outputs": []
    },
    {
      "cell_type": "markdown",
      "source": [
        "Create a person (i.e., a `Person` object) called `p` with unknown parents.  \n",
        "\n",
        "(You will need to give your person a first and last name.) Check the type of\n",
        "`p`.  Include all inputs and outputs."
      ],
      "metadata": {
        "id": "-ppMsEIVHINl"
      }
    },
    {
      "cell_type": "code",
      "source": [
        "p = Person(\"Kenzie\", \"Alber\")\n",
        "print(type(p))"
      ],
      "metadata": {
        "id": "5bwid_6gHIBH",
        "colab": {
          "base_uri": "https://localhost:8080/"
        },
        "outputId": "0bd0da1b-c1b1-4d0e-e98d-a952440fed8a"
      },
      "execution_count": 3,
      "outputs": [
        {
          "output_type": "stream",
          "name": "stdout",
          "text": [
            "<class '__main__.Person'>\n"
          ]
        }
      ]
    },
    {
      "cell_type": "markdown",
      "source": [
        "Verify that your `__str__` and `__repr__` functions are doing what they are supposed to do.  Include all inputs and outputs."
      ],
      "metadata": {
        "id": "Z6zlUC3xRtal"
      }
    },
    {
      "cell_type": "code",
      "source": [
        "print(\"str output: \" + str(p))\n",
        "print(\"repr output: \" + repr(p))"
      ],
      "metadata": {
        "id": "jZO0dBQYRs-K",
        "colab": {
          "base_uri": "https://localhost:8080/"
        },
        "outputId": "f72b8374-9c4a-4146-a2fd-5df6037cd71c"
      },
      "execution_count": 6,
      "outputs": [
        {
          "output_type": "stream",
          "name": "stdout",
          "text": [
            "str output: Alber (Kenzie)\n",
            "repr output: Person('Kenzie', 'Alber', 'unknown', 'unknown')\n"
          ]
        }
      ]
    },
    {
      "cell_type": "markdown",
      "source": [
        "Suppose the mother of `p` has been found and is named Taylor Swift.  Create a new person named Taylor Swift, and make her the mother of `p`:\n",
        "\n",
        "```\n",
        "> p.mother\n",
        "'Taylor Swift'\n",
        "```"
      ],
      "metadata": {
        "id": "1mOAThQiHzoQ"
      }
    },
    {
      "cell_type": "code",
      "source": [
        "mother = Person(\"Swift\", \"Taylor\")\n",
        "p.mother = mother"
      ],
      "metadata": {
        "id": "NYbDOorpHymz"
      },
      "execution_count": 7,
      "outputs": []
    },
    {
      "cell_type": "markdown",
      "source": [
        "2.  Add some methods to your class.  Start by copying the `class` definition you already wrote.  Then, inside the `class` definition:\n",
        "\n",
        "  (a) Write a method called `unknownParent()` which returns `True` if any parent is 'unknown' and `False` otherwise.\n",
        "\n",
        "  (b) Write a method called `maternalGrandmother()` which returns the mother's mother.  If the mother is unknown, it should return 'unknown'.\n",
        "\n"
      ],
      "metadata": {
        "id": "1g1pcrmFHzGh"
      }
    },
    {
      "cell_type": "code",
      "source": [
        "class Person:\n",
        "  def __init__(self, lastName, firstName, mother=\"unknown\", father=\"unknown\"):\n",
        "        self.lastName = lastName\n",
        "        self.firstName = firstName\n",
        "        self.mother = mother\n",
        "        self.father = father\n",
        "  def __str__(self):\n",
        "    return f\"{self.firstName} ({self.lastName})\"\n",
        "  def __repr__(self):\n",
        "    return f\"Person('{self.lastName}', '{self.firstName}', '{self.mother}', '{self.father}')\"\n",
        "\n",
        "#unknown parent method\n",
        "  def unknownParent(self):\n",
        "    return self.mother == \"unknown\" or self.father == \"unknown\"\n",
        "\n",
        "#maternal grandmother method\n",
        "  def maternalGrandmother(self):\n",
        "    if self.mother == \"unknown\":\n",
        "      return \"unknown\"\n",
        "    else:\n",
        "      return self.mother.mother"
      ],
      "metadata": {
        "id": "7mIxJGwwKTpv"
      },
      "execution_count": 10,
      "outputs": []
    },
    {
      "cell_type": "markdown",
      "source": [
        "Create enough `Person` objects to test whether your methods are working properly.  Show all your inputs and outputs.  It is up to you to demonstrate that you have thoroughly tested the code.  You may use additional code and/or text chunks if it helps."
      ],
      "metadata": {
        "id": "l9-4gxd8FxAQ"
      }
    },
    {
      "cell_type": "code",
      "source": [
        "kayden = Person(\"Alber-Ho\", \"Kayden\")\n",
        "melanie = Person(\"Alber-Ho\", \"Melanie\")\n",
        "duy = Person(\"Ho\", \"Duy\")\n",
        "tina = Person(\"Alber\", \"Tina\")\n",
        "\n",
        "kayden.mother = melanie\n",
        "kayden.father = duy\n",
        "melanie.mother = tina\n",
        "\n",
        "#unknownParent() method\n",
        "print(\"Test if Kayden's parent is unknown: \", kayden.unknownParent())\n",
        "print(\"Test if Melanie's parents are unknown\", melanie.unknownParent())\n",
        "\n",
        "#maternalGrandmother() method\n",
        "print(\"Kayden's maternal grandmother: \", kayden.maternalGrandmother())\n",
        "print(\"Melanie's maternal grandmother: \", melanie.maternalGrandmother())"
      ],
      "metadata": {
        "id": "gX1qpcKzFwoZ",
        "colab": {
          "base_uri": "https://localhost:8080/"
        },
        "outputId": "a26b69b4-6b38-4553-a321-c5c5a1e03f15"
      },
      "execution_count": 13,
      "outputs": [
        {
          "output_type": "stream",
          "name": "stdout",
          "text": [
            "Test if Kayden's parent is unknown:  False\n",
            "Test if Melanie's parents are unknown True\n",
            "Kayden's maternal grandmother:  Tina (Alber)\n",
            "Melanie's maternal grandmother:  unknown\n"
          ]
        }
      ]
    }
  ]
}